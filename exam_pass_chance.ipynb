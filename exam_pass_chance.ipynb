{
 "cells": [
  {
   "cell_type": "code",
   "execution_count": 1,
   "metadata": {},
   "outputs": [],
   "source": [
    "import scipy.stats as sps\n",
    "import numpy as np\n",
    "import pandas\n",
    "import plotly.express as px\n",
    "import ipywidgets as widgets\n",
    "from ipywidgets import interact\n",
    "\n",
    "\n",
    "\n",
    "\n",
    "def chance_to_pass_num_questions(passing_score, comprehension):\n",
    "    number_of_questions = np.array(list(range(1, 101)))\n",
    "    number_to_pass = np.ceil(number_of_questions * passing_score)\n",
    "    chance_to_pass = 1.0 - sps.binom.cdf(k=(number_to_pass - 1), n=number_of_questions, p=comprehension)\n",
    "    px.bar(dict(number_of_questions=number_of_questions, chance_to_pass=chance_to_pass), x='number_of_questions', y='chance_to_pass').show()\n",
    "\n",
    "def chance_to_pass_comprehension(passing_score, number_of_questions):\n",
    "    comprehension = np.linspace(0, 1, 101)\n",
    "    number_to_pass = np.ceil(number_of_questions * passing_score)\n",
    "    chance_to_pass = 1.0 - sps.binom.cdf(k=(number_to_pass - 1), n=number_of_questions, p=comprehension)\n",
    "    px.bar(dict(comprehension=comprehension, chance_to_pass=chance_to_pass), x='comprehension', y='chance_to_pass').show()\n",
    "\n",
    "    \n",
    "def results_normal_distribution(comprehension, number_of_questions):\n",
    "    score = np.array(list(range(0, number_of_questions+1)))\n",
    "    probability = sps.binom.pmf(k=score, n=number_of_questions, p=comprehension)\n",
    "    px.bar(dict(score=score/number_of_questions, probability=probability), x='score', y='probability').show()"
   ]
  },
  {
   "cell_type": "code",
   "execution_count": 2,
   "metadata": {},
   "outputs": [
    {
     "data": {
      "application/vnd.jupyter.widget-view+json": {
       "model_id": "d19af624d28245dcb36e59dd497cb49c",
       "version_major": 2,
       "version_minor": 0
      },
      "text/plain": [
       "interactive(children=(FloatSlider(value=0.75, continuous_update=False, description='passing_score', layout=Lay…"
      ]
     },
     "metadata": {},
     "output_type": "display_data"
    },
    {
     "data": {
      "text/plain": [
       "<function __main__.chance_to_pass_num_questions(passing_score, comprehension)>"
      ]
     },
     "execution_count": 2,
     "metadata": {},
     "output_type": "execute_result"
    }
   ],
   "source": [
    "interact(chance_to_pass_num_questions,\n",
    "         passing_score=widgets.FloatSlider(0.75, min=0.0, max=1.0, step=0.01, readout_format='.2f', layout=widgets.Layout(width='100%'), continuous_update=False),\n",
    "         comprehension=widgets.FloatSlider(0.75, min=0.0, max=1.0, step=0.01, readout_format='.2f', layout=widgets.Layout(width='100%'), continuous_update=False))"
   ]
  },
  {
   "cell_type": "code",
   "execution_count": 3,
   "metadata": {
    "scrolled": false
   },
   "outputs": [
    {
     "data": {
      "application/vnd.jupyter.widget-view+json": {
       "model_id": "88459fb69335439889db751ce2036f8f",
       "version_major": 2,
       "version_minor": 0
      },
      "text/plain": [
       "interactive(children=(FloatSlider(value=0.75, continuous_update=False, description='passing_score', layout=Lay…"
      ]
     },
     "metadata": {},
     "output_type": "display_data"
    },
    {
     "data": {
      "text/plain": [
       "<function __main__.chance_to_pass_comprehension(passing_score, number_of_questions)>"
      ]
     },
     "execution_count": 3,
     "metadata": {},
     "output_type": "execute_result"
    }
   ],
   "source": [
    "interact(chance_to_pass_comprehension,\n",
    "         passing_score=widgets.FloatSlider(0.75, min=0.0, max=1.0, step=0.01, readout_format='.2f',\n",
    "                                         layout=widgets.Layout(width='100%'), continuous_update=False),\n",
    "         number_of_questions=widgets.IntSlider(50, min=0, max=200, readout_format='.2f',\n",
    "                                        layout=widgets.Layout(width='100%'), continuous_update=False))"
   ]
  },
  {
   "cell_type": "code",
   "execution_count": 4,
   "metadata": {},
   "outputs": [
    {
     "data": {
      "application/vnd.jupyter.widget-view+json": {
       "model_id": "2a477800948a403fbb7f2cc1a658a975",
       "version_major": 2,
       "version_minor": 0
      },
      "text/plain": [
       "interactive(children=(FloatSlider(value=0.75, continuous_update=False, description='comprehension', layout=Lay…"
      ]
     },
     "metadata": {},
     "output_type": "display_data"
    },
    {
     "data": {
      "text/plain": [
       "<function __main__.results_normal_distribution(comprehension, number_of_questions)>"
      ]
     },
     "execution_count": 4,
     "metadata": {},
     "output_type": "execute_result"
    }
   ],
   "source": [
    "interact(results_normal_distribution,\n",
    "         comprehension=widgets.FloatSlider(0.75, min=0.0, max=1.0, step=0.01, readout_format='.2f',\n",
    "                                    layout=widgets.Layout(width='100%'), continuous_update=False), \n",
    "         number_of_questions=widgets.IntSlider(50, min=0, max=200, readout_format='.2f',\n",
    "                                        layout=widgets.Layout(width='100%'), continuous_update=False))"
   ]
  },
  {
   "cell_type": "code",
   "execution_count": 6,
   "metadata": {},
   "outputs": [
    {
     "data": {
      "application/vnd.jupyter.widget-view+json": {
       "model_id": "f5755d0d87784e37b8519c83be0b4e70",
       "version_major": 2,
       "version_minor": 0
      },
      "text/plain": [
       "interactive(children=(FloatSlider(value=0.75, continuous_update=False, description='prog_zdania', layout=Layou…"
      ]
     },
     "metadata": {},
     "output_type": "display_data"
    },
    {
     "data": {
      "text/plain": [
       "<function __main__.szansa_zdania_od_wiedzy_2(prog_zdania, liczba_pytan)>"
      ]
     },
     "execution_count": 6,
     "metadata": {},
     "output_type": "execute_result"
    }
   ],
   "source": []
  },
  {
   "cell_type": "code",
   "execution_count": 13,
   "metadata": {},
   "outputs": [],
   "source": []
  },
  {
   "cell_type": "code",
   "execution_count": null,
   "metadata": {},
   "outputs": [],
   "source": []
  },
  {
   "cell_type": "code",
   "execution_count": null,
   "metadata": {},
   "outputs": [],
   "source": []
  },
  {
   "cell_type": "code",
   "execution_count": 4,
   "metadata": {},
   "outputs": [],
   "source": []
  },
  {
   "cell_type": "code",
   "execution_count": null,
   "metadata": {},
   "outputs": [],
   "source": []
  },
  {
   "cell_type": "code",
   "execution_count": 11,
   "metadata": {},
   "outputs": [],
   "source": []
  },
  {
   "cell_type": "code",
   "execution_count": null,
   "metadata": {},
   "outputs": [],
   "source": []
  },
  {
   "cell_type": "code",
   "execution_count": null,
   "metadata": {},
   "outputs": [],
   "source": []
  }
 ],
 "metadata": {
  "kernelspec": {
   "display_name": "Python 3",
   "language": "python",
   "name": "python3"
  },
  "language_info": {
   "codemirror_mode": {
    "name": "ipython",
    "version": 3
   },
   "file_extension": ".py",
   "mimetype": "text/x-python",
   "name": "python",
   "nbconvert_exporter": "python",
   "pygments_lexer": "ipython3",
   "version": "3.8.6"
  }
 },
 "nbformat": 4,
 "nbformat_minor": 4
}
